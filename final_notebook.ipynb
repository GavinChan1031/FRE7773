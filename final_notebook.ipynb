{
 "cells": [
  {
   "cell_type": "code",
   "execution_count": 1,
   "id": "73867fc0",
   "metadata": {},
   "outputs": [],
   "source": [
    "# import libraries\n",
    "# import nltk\n",
    "# nltk.download('wordnet')\n",
    "\n",
    "import pandas as pd \n",
    "import numpy as np\n",
    "import pickle\n",
    "\n",
    "from nltk.tokenize import TweetTokenizer\n",
    "from nltk.stem.wordnet import WordNetLemmatizer\n",
    "from nltk.corpus import stopwords\n",
    "import re\n",
    "import matplotlib.pyplot as plt\n",
    "\n",
    "from sklearn.feature_extraction.text import TfidfVectorizer, CountVectorizer, HashingVectorizer\n",
    "from sklearn.metrics import accuracy_score\n",
    "from sklearn.metrics import classification_report"
   ]
  },
  {
   "cell_type": "markdown",
   "id": "a312e676",
   "metadata": {},
   "source": [
    "### load and clean the dataset "
   ]
  },
  {
   "cell_type": "code",
   "execution_count": 2,
   "id": "54a46644",
   "metadata": {},
   "outputs": [],
   "source": [
    "data_ori = pd.read_pickle(r'Bitcoin_tweets.pkl')"
   ]
  },
  {
   "cell_type": "code",
   "execution_count": 3,
   "id": "08cbaaa3",
   "metadata": {},
   "outputs": [],
   "source": [
    "data_ori = data_ori.sample(20000)\n",
    "data_ori.reset_index(drop=True,inplace=True)"
   ]
  },
  {
   "cell_type": "code",
   "execution_count": 4,
   "id": "79673d4b",
   "metadata": {},
   "outputs": [
    {
     "data": {
      "text/html": [
       "<div>\n",
       "<style scoped>\n",
       "    .dataframe tbody tr th:only-of-type {\n",
       "        vertical-align: middle;\n",
       "    }\n",
       "\n",
       "    .dataframe tbody tr th {\n",
       "        vertical-align: top;\n",
       "    }\n",
       "\n",
       "    .dataframe thead th {\n",
       "        text-align: right;\n",
       "    }\n",
       "</style>\n",
       "<table border=\"1\" class=\"dataframe\">\n",
       "  <thead>\n",
       "    <tr style=\"text-align: right;\">\n",
       "      <th></th>\n",
       "      <th>user_name</th>\n",
       "      <th>user_location</th>\n",
       "      <th>user_description</th>\n",
       "      <th>user_created</th>\n",
       "      <th>user_followers</th>\n",
       "      <th>user_friends</th>\n",
       "      <th>user_favourites</th>\n",
       "      <th>user_verified</th>\n",
       "      <th>date</th>\n",
       "      <th>text</th>\n",
       "      <th>hashtags</th>\n",
       "      <th>source</th>\n",
       "      <th>is_retweet</th>\n",
       "    </tr>\n",
       "  </thead>\n",
       "  <tbody>\n",
       "    <tr>\n",
       "      <th>0</th>\n",
       "      <td>Br⚾️xim⚾️</td>\n",
       "      <td>toronto</td>\n",
       "      <td>(╯°□°)╯︵ ┻━┻</td>\n",
       "      <td>2011-06-12 04:26:40</td>\n",
       "      <td>108.0</td>\n",
       "      <td>479.0</td>\n",
       "      <td>6891.0</td>\n",
       "      <td>False</td>\n",
       "      <td>2021-07-03 19:51:16</td>\n",
       "      <td>I found #bitcoin in a User vault at this locat...</td>\n",
       "      <td>['bitcoin', 'coinhuntworld', 'cryptocurrency']</td>\n",
       "      <td>Twitter for iPhone</td>\n",
       "      <td>False</td>\n",
       "    </tr>\n",
       "    <tr>\n",
       "      <th>1</th>\n",
       "      <td>Iman husein</td>\n",
       "      <td>NaN</td>\n",
       "      <td>Good</td>\n",
       "      <td>2020-12-18 15:22:11</td>\n",
       "      <td>57.0</td>\n",
       "      <td>991.0</td>\n",
       "      <td>884.0</td>\n",
       "      <td>False</td>\n",
       "      <td>2021-07-03 12:51:52</td>\n",
       "      <td>@paybswap Hopefully this project is a success ...</td>\n",
       "      <td>['Airdrops', 'Bitcoin', 'crypto', 'Blockchain'...</td>\n",
       "      <td>Twitter Web App</td>\n",
       "      <td>False</td>\n",
       "    </tr>\n",
       "    <tr>\n",
       "      <th>2</th>\n",
       "      <td>ROGER 9000 🌞🐉🌋☯️💱🇸🇻</td>\n",
       "      <td>London, England</td>\n",
       "      <td>fix the money 💵 fix the world🌎🙏❤️🌞#bitcoin fix...</td>\n",
       "      <td>2012-02-29 10:55:47</td>\n",
       "      <td>440.0</td>\n",
       "      <td>663.0</td>\n",
       "      <td>1071.0</td>\n",
       "      <td>False</td>\n",
       "      <td>2021-08-25 04:44:25</td>\n",
       "      <td>#BITCOIN = TRUTH \\n\\nTRUTH  =  TRUST \\n\\nTRUST...</td>\n",
       "      <td>['BITCOIN']</td>\n",
       "      <td>Twitter for iPhone</td>\n",
       "      <td>False</td>\n",
       "    </tr>\n",
       "    <tr>\n",
       "      <th>3</th>\n",
       "      <td>Luis Ramos</td>\n",
       "      <td>España</td>\n",
       "      <td>NaN</td>\n",
       "      <td>2011-08-27 07:26:57</td>\n",
       "      <td>114.0</td>\n",
       "      <td>49.0</td>\n",
       "      <td>750.0</td>\n",
       "      <td>False</td>\n",
       "      <td>2021-07-30 17:42:46</td>\n",
       "      <td>@CryptoK56985447 @BabyCakeBSC @PancakeSwap Bes...</td>\n",
       "      <td>['BabyCake', 'btc', 'bnb', 'bitcoin', 'Binance...</td>\n",
       "      <td>Twitter Web App</td>\n",
       "      <td>False</td>\n",
       "    </tr>\n",
       "    <tr>\n",
       "      <th>4</th>\n",
       "      <td>Cryptzo Official</td>\n",
       "      <td>United States</td>\n",
       "      <td>One Stop Hub for all your crypto needs</td>\n",
       "      <td>2021-07-27 05:27:42</td>\n",
       "      <td>247.0</td>\n",
       "      <td>0.0</td>\n",
       "      <td>3.0</td>\n",
       "      <td>False</td>\n",
       "      <td>2021-08-16 07:00:00</td>\n",
       "      <td>https://t.co/wM6E4MUJPR\\nSeasoned investors ar...</td>\n",
       "      <td>['defi', 'cryptzo', 'yieldfarming', 'bitcoin',...</td>\n",
       "      <td>Twitter Web App</td>\n",
       "      <td>False</td>\n",
       "    </tr>\n",
       "  </tbody>\n",
       "</table>\n",
       "</div>"
      ],
      "text/plain": [
       "             user_name    user_location  \\\n",
       "0            Br⚾️xim⚾️          toronto   \n",
       "1          Iman husein              NaN   \n",
       "2  ROGER 9000 🌞🐉🌋☯️💱🇸🇻  London, England   \n",
       "3           Luis Ramos           España   \n",
       "4     Cryptzo Official    United States   \n",
       "\n",
       "                                    user_description         user_created  \\\n",
       "0                                       (╯°□°)╯︵ ┻━┻  2011-06-12 04:26:40   \n",
       "1                                               Good  2020-12-18 15:22:11   \n",
       "2  fix the money 💵 fix the world🌎🙏❤️🌞#bitcoin fix...  2012-02-29 10:55:47   \n",
       "3                                                NaN  2011-08-27 07:26:57   \n",
       "4             One Stop Hub for all your crypto needs  2021-07-27 05:27:42   \n",
       "\n",
       "   user_followers user_friends user_favourites user_verified  \\\n",
       "0           108.0        479.0          6891.0         False   \n",
       "1            57.0        991.0           884.0         False   \n",
       "2           440.0        663.0          1071.0         False   \n",
       "3           114.0         49.0           750.0         False   \n",
       "4           247.0          0.0             3.0         False   \n",
       "\n",
       "                  date                                               text  \\\n",
       "0  2021-07-03 19:51:16  I found #bitcoin in a User vault at this locat...   \n",
       "1  2021-07-03 12:51:52  @paybswap Hopefully this project is a success ...   \n",
       "2  2021-08-25 04:44:25  #BITCOIN = TRUTH \\n\\nTRUTH  =  TRUST \\n\\nTRUST...   \n",
       "3  2021-07-30 17:42:46  @CryptoK56985447 @BabyCakeBSC @PancakeSwap Bes...   \n",
       "4  2021-08-16 07:00:00  https://t.co/wM6E4MUJPR\\nSeasoned investors ar...   \n",
       "\n",
       "                                            hashtags              source  \\\n",
       "0     ['bitcoin', 'coinhuntworld', 'cryptocurrency']  Twitter for iPhone   \n",
       "1  ['Airdrops', 'Bitcoin', 'crypto', 'Blockchain'...     Twitter Web App   \n",
       "2                                        ['BITCOIN']  Twitter for iPhone   \n",
       "3  ['BabyCake', 'btc', 'bnb', 'bitcoin', 'Binance...     Twitter Web App   \n",
       "4  ['defi', 'cryptzo', 'yieldfarming', 'bitcoin',...     Twitter Web App   \n",
       "\n",
       "  is_retweet  \n",
       "0      False  \n",
       "1      False  \n",
       "2      False  \n",
       "3      False  \n",
       "4      False  "
      ]
     },
     "execution_count": 4,
     "metadata": {},
     "output_type": "execute_result"
    }
   ],
   "source": [
    "data_ori.head()"
   ]
  },
  {
   "cell_type": "code",
   "execution_count": 5,
   "id": "b228f673",
   "metadata": {},
   "outputs": [],
   "source": [
    "#clean the dataframe, drop the rows where the \"text\" and 'hashtags' columns are NaN\n",
    "data_clean = data_ori.dropna(subset=['text','hashtags']).reset_index(drop=True)"
   ]
  },
  {
   "cell_type": "code",
   "execution_count": 6,
   "id": "df9821ba",
   "metadata": {},
   "outputs": [
    {
     "data": {
      "text/html": [
       "<div>\n",
       "<style scoped>\n",
       "    .dataframe tbody tr th:only-of-type {\n",
       "        vertical-align: middle;\n",
       "    }\n",
       "\n",
       "    .dataframe tbody tr th {\n",
       "        vertical-align: top;\n",
       "    }\n",
       "\n",
       "    .dataframe thead th {\n",
       "        text-align: right;\n",
       "    }\n",
       "</style>\n",
       "<table border=\"1\" class=\"dataframe\">\n",
       "  <thead>\n",
       "    <tr style=\"text-align: right;\">\n",
       "      <th></th>\n",
       "      <th>tweets</th>\n",
       "    </tr>\n",
       "  </thead>\n",
       "  <tbody>\n",
       "    <tr>\n",
       "      <th>0</th>\n",
       "      <td>I found #bitcoin in a User vault at this locat...</td>\n",
       "    </tr>\n",
       "    <tr>\n",
       "      <th>1</th>\n",
       "      <td>@paybswap Hopefully this project is a success ...</td>\n",
       "    </tr>\n",
       "    <tr>\n",
       "      <th>2</th>\n",
       "      <td>#BITCOIN = TRUTH \\n\\nTRUTH  =  TRUST \\n\\nTRUST...</td>\n",
       "    </tr>\n",
       "    <tr>\n",
       "      <th>3</th>\n",
       "      <td>@CryptoK56985447 @BabyCakeBSC @PancakeSwap Bes...</td>\n",
       "    </tr>\n",
       "    <tr>\n",
       "      <th>4</th>\n",
       "      <td>https://t.co/wM6E4MUJPR\\nSeasoned investors ar...</td>\n",
       "    </tr>\n",
       "  </tbody>\n",
       "</table>\n",
       "</div>"
      ],
      "text/plain": [
       "                                              tweets\n",
       "0  I found #bitcoin in a User vault at this locat...\n",
       "1  @paybswap Hopefully this project is a success ...\n",
       "2  #BITCOIN = TRUTH \\n\\nTRUTH  =  TRUST \\n\\nTRUST...\n",
       "3  @CryptoK56985447 @BabyCakeBSC @PancakeSwap Bes...\n",
       "4  https://t.co/wM6E4MUJPR\\nSeasoned investors ar..."
      ]
     },
     "execution_count": 6,
     "metadata": {},
     "output_type": "execute_result"
    }
   ],
   "source": [
    "# get only texts\n",
    "text_data = data_clean[['text']].copy() \n",
    "text_data.columns = ['tweets']\n",
    "# show the data\n",
    "text_data.head()"
   ]
  },
  {
   "cell_type": "code",
   "execution_count": 7,
   "id": "ba68595a",
   "metadata": {},
   "outputs": [],
   "source": [
    "lemmatizer = WordNetLemmatizer()\n",
    "# Import nltk stopwords and customize it to add common crypto words that don't add too much information \n",
    "stop_words = stopwords.words(['english'])\n",
    "crypto_words = ['btc','bitcoin','eth','etherum','crypto']\n",
    "stop_words = stop_words + crypto_words"
   ]
  },
  {
   "cell_type": "code",
   "execution_count": 8,
   "id": "bc96375d",
   "metadata": {},
   "outputs": [],
   "source": [
    "# create a function to clean the tweets\n",
    "def text_clean(data):\n",
    "  #I.  \n",
    "  #1. Remove urls/hyperlinks\n",
    "  tweet_without_url = re.sub(r'((www\\.[^\\s]+)|(http\\S+))',' ', data)\n",
    "\n",
    "  #2. Remove hashtags\n",
    "  tweet_without_hashtag = re.sub(r'#\\w+', ' ', tweet_without_url)\n",
    "\n",
    "  #3. Remove mentions \n",
    "  tweet_without_mentions = re.sub(r'@\\w+',' ', tweet_without_hashtag)\n",
    "\n",
    "  #4. Remove characters that not in the English alphabets\n",
    "  tweet_pre_cleaned = re.sub('[^A-Za-z]+', ' ', tweet_without_mentions)\n",
    "  \n",
    "  #5. Remove additional white spaces\n",
    "  tweet_pre_cleaned = re.sub('[\\s]+', ' ', tweet_pre_cleaned)\n",
    "    \n",
    "  #II. \n",
    "    #1. Tokenize\n",
    "  tweet_tokens = TweetTokenizer().tokenize(tweet_pre_cleaned)\n",
    "\n",
    "    #2. Lower?\n",
    "  tweet_lower = [l.lower() for l in tweet_tokens]\n",
    "\n",
    "    #2. Remove Puncs\n",
    "  tokens_without_punc = [w for w in tweet_lower if w.isalpha()]\n",
    "    \n",
    "    #3. Removing Stopwords\n",
    "  lemmatizer = WordNetLemmatizer()\n",
    "    # Import nltk stopwords and customize it to add common crypto words that don't add too much information \n",
    "  stop_words = stopwords.words(['english'])\n",
    "  crypto_words = ['btc','bitcoin','eth','etherum','crypto']\n",
    "  stop_words = stop_words + crypto_words\n",
    "  tokens_without_stopwords = [t for t in tokens_without_punc if t not in stop_words]\n",
    "    \n",
    "    #4. lemmatize\n",
    "  text_cleaned = [lemmatizer.lemmatize(t) for t in tokens_without_stopwords]\n",
    "    \n",
    "    #5. Joining\n",
    "  return \" \".join(text_cleaned)"
   ]
  },
  {
   "cell_type": "code",
   "execution_count": 9,
   "id": "f9bffea6",
   "metadata": {},
   "outputs": [],
   "source": [
    "# create a column to store the clean tweets\n",
    "text_data['cleaned_tweets'] = text_data['tweets'].apply(text_clean)"
   ]
  },
  {
   "cell_type": "markdown",
   "id": "910efc3d",
   "metadata": {},
   "source": [
    "### using textblob to do sentiment analysis "
   ]
  },
  {
   "cell_type": "code",
   "execution_count": 10,
   "id": "10904b8d",
   "metadata": {},
   "outputs": [],
   "source": [
    "# using textblob to do sentiment analysis \n",
    "from textblob import TextBlob\n",
    "\n",
    "# create a function to get subjectivity\n",
    "# subjectivity is in range [0,1]\n",
    "def getSubjectivity(tweet):\n",
    "  return TextBlob(tweet).sentiment.subjectivity\n",
    "\n",
    "# create a function to get the polarity\n",
    "# polarity is in range [-1,1]\n",
    "def getPolarity(tweet):\n",
    "  return TextBlob(tweet).sentiment.polarity\n",
    "\n",
    "# create a function to get sentiment text based on polarity\n",
    "def getSentiment(score):\n",
    "  if score < 0:\n",
    "    return 'negative'\n",
    "  elif score == 0:\n",
    "    return 'neutral'\n",
    "  else:\n",
    "    return 'positive'"
   ]
  },
  {
   "cell_type": "code",
   "execution_count": 11,
   "id": "82571e3b",
   "metadata": {},
   "outputs": [],
   "source": [
    "# create two new columns called \"Subjectivity\" & \"Polarity\"\n",
    "text_data['subjectivity'] = text_data['cleaned_tweets'].apply(getSubjectivity)\n",
    "text_data['polarity'] = text_data['cleaned_tweets'].apply(getPolarity)"
   ]
  },
  {
   "cell_type": "code",
   "execution_count": 12,
   "id": "b7fce5b2",
   "metadata": {},
   "outputs": [],
   "source": [
    "# create a column to store the text sentiment\n",
    "text_data['sentiment'] = text_data['polarity'].apply(getSentiment)"
   ]
  },
  {
   "cell_type": "code",
   "execution_count": 13,
   "id": "7fdea9a6",
   "metadata": {},
   "outputs": [
    {
     "data": {
      "image/png": "[encoded data removed]",
      "text/plain": [
       "<Figure size 432x288 with 1 Axes>"
      ]
     },
     "metadata": {
      "needs_background": "light"
     },
     "output_type": "display_data"
    }
   ],
   "source": [
    "# bar plot of sentiment \n",
    "text_data['sentiment'].value_counts().plot(kind=\"bar\")\n",
    "plt.title(\"Tweets sentiment plot\")\n",
    "plt.xlabel(\"Polarity\")\n",
    "plt.ylabel(\"Count\")\n",
    "plt.show()"
   ]
  },
  {
   "cell_type": "code",
   "execution_count": 14,
   "id": "6360f5a0",
   "metadata": {},
   "outputs": [
    {
     "data": {
      "image/png": "[encoded data removed]",
      "text/plain": [
       "<Figure size 432x288 with 1 Axes>"
      ]
     },
     "metadata": {
      "needs_background": "light"
     },
     "output_type": "display_data"
    }
   ],
   "source": [
    "# histogram of polarity score\n",
    "text_data.polarity.plot(kind='hist',range=(-1,1),bins=40,edgecolor='black');"
   ]
  },
  {
   "cell_type": "code",
   "execution_count": 15,
   "id": "38dfc5c7",
   "metadata": {},
   "outputs": [
    {
     "data": {
      "text/html": [
       "<div>\n",
       "<style scoped>\n",
       "    .dataframe tbody tr th:only-of-type {\n",
       "        vertical-align: middle;\n",
       "    }\n",
       "\n",
       "    .dataframe tbody tr th {\n",
       "        vertical-align: top;\n",
       "    }\n",
       "\n",
       "    .dataframe thead th {\n",
       "        text-align: right;\n",
       "    }\n",
       "</style>\n",
       "<table border=\"1\" class=\"dataframe\">\n",
       "  <thead>\n",
       "    <tr style=\"text-align: right;\">\n",
       "      <th></th>\n",
       "      <th>tweets</th>\n",
       "      <th>cleaned_tweets</th>\n",
       "      <th>subjectivity</th>\n",
       "      <th>polarity</th>\n",
       "      <th>sentiment</th>\n",
       "    </tr>\n",
       "  </thead>\n",
       "  <tbody>\n",
       "    <tr>\n",
       "      <th>0</th>\n",
       "      <td>I found #bitcoin in a User vault at this locat...</td>\n",
       "      <td>found user vault location join playing awesome</td>\n",
       "      <td>1.000000</td>\n",
       "      <td>1.000000</td>\n",
       "      <td>positive</td>\n",
       "    </tr>\n",
       "    <tr>\n",
       "      <th>1</th>\n",
       "      <td>@paybswap Hopefully this project is a success ...</td>\n",
       "      <td>hopefully project success becomes one best cry...</td>\n",
       "      <td>0.410000</td>\n",
       "      <td>0.570000</td>\n",
       "      <td>positive</td>\n",
       "    </tr>\n",
       "    <tr>\n",
       "      <th>2</th>\n",
       "      <td>#BITCOIN = TRUTH \\n\\nTRUTH  =  TRUST \\n\\nTRUST...</td>\n",
       "      <td>truth truth trust trust love</td>\n",
       "      <td>0.600000</td>\n",
       "      <td>0.500000</td>\n",
       "      <td>positive</td>\n",
       "    </tr>\n",
       "    <tr>\n",
       "      <th>3</th>\n",
       "      <td>@CryptoK56985447 @BabyCakeBSC @PancakeSwap Bes...</td>\n",
       "      <td>best token bsc</td>\n",
       "      <td>0.300000</td>\n",
       "      <td>1.000000</td>\n",
       "      <td>positive</td>\n",
       "    </tr>\n",
       "    <tr>\n",
       "      <th>4</th>\n",
       "      <td>https://t.co/wM6E4MUJPR\\nSeasoned investors ar...</td>\n",
       "      <td>seasoned investor increasingly active data hin...</td>\n",
       "      <td>0.403333</td>\n",
       "      <td>0.143333</td>\n",
       "      <td>positive</td>\n",
       "    </tr>\n",
       "    <tr>\n",
       "      <th>...</th>\n",
       "      <td>...</td>\n",
       "      <td>...</td>\n",
       "      <td>...</td>\n",
       "      <td>...</td>\n",
       "      <td>...</td>\n",
       "    </tr>\n",
       "    <tr>\n",
       "      <th>16813</th>\n",
       "      <td>#business #businessgoals #businessgrowth #busi...</td>\n",
       "      <td>get paid using webtalk</td>\n",
       "      <td>0.000000</td>\n",
       "      <td>0.000000</td>\n",
       "      <td>neutral</td>\n",
       "    </tr>\n",
       "    <tr>\n",
       "      <th>16814</th>\n",
       "      <td>We all make mistakes in life👊\\n\\nAlways keep l...</td>\n",
       "      <td>make mistake life always keep learning somethi...</td>\n",
       "      <td>0.451515</td>\n",
       "      <td>-0.126768</td>\n",
       "      <td>negative</td>\n",
       "    </tr>\n",
       "    <tr>\n",
       "      <th>16815</th>\n",
       "      <td>Want in on #Bitcoin but too nervous to buy? \\n...</td>\n",
       "      <td>want nervous buy shop get cashback instead brand</td>\n",
       "      <td>0.000000</td>\n",
       "      <td>0.000000</td>\n",
       "      <td>neutral</td>\n",
       "    </tr>\n",
       "    <tr>\n",
       "      <th>16816</th>\n",
       "      <td>@ialihamza91 Elon you going to wait another 10...</td>\n",
       "      <td>elon going wait another year look best best</td>\n",
       "      <td>0.300000</td>\n",
       "      <td>1.000000</td>\n",
       "      <td>positive</td>\n",
       "    </tr>\n",
       "    <tr>\n",
       "      <th>16817</th>\n",
       "      <td>@pufferswap I Think, this is very strong proje...</td>\n",
       "      <td>think strong project thanks shared wonderful o...</td>\n",
       "      <td>0.644444</td>\n",
       "      <td>0.544444</td>\n",
       "      <td>positive</td>\n",
       "    </tr>\n",
       "  </tbody>\n",
       "</table>\n",
       "<p>16818 rows × 5 columns</p>\n",
       "</div>"
      ],
      "text/plain": [
       "                                                  tweets  \\\n",
       "0      I found #bitcoin in a User vault at this locat...   \n",
       "1      @paybswap Hopefully this project is a success ...   \n",
       "2      #BITCOIN = TRUTH \\n\\nTRUTH  =  TRUST \\n\\nTRUST...   \n",
       "3      @CryptoK56985447 @BabyCakeBSC @PancakeSwap Bes...   \n",
       "4      https://t.co/wM6E4MUJPR\\nSeasoned investors ar...   \n",
       "...                                                  ...   \n",
       "16813  #business #businessgoals #businessgrowth #busi...   \n",
       "16814  We all make mistakes in life👊\\n\\nAlways keep l...   \n",
       "16815  Want in on #Bitcoin but too nervous to buy? \\n...   \n",
       "16816  @ialihamza91 Elon you going to wait another 10...   \n",
       "16817  @pufferswap I Think, this is very strong proje...   \n",
       "\n",
       "                                          cleaned_tweets  subjectivity  \\\n",
       "0         found user vault location join playing awesome      1.000000   \n",
       "1      hopefully project success becomes one best cry...      0.410000   \n",
       "2                           truth truth trust trust love      0.600000   \n",
       "3                                         best token bsc      0.300000   \n",
       "4      seasoned investor increasingly active data hin...      0.403333   \n",
       "...                                                  ...           ...   \n",
       "16813                             get paid using webtalk      0.000000   \n",
       "16814  make mistake life always keep learning somethi...      0.451515   \n",
       "16815   want nervous buy shop get cashback instead brand      0.000000   \n",
       "16816        elon going wait another year look best best      0.300000   \n",
       "16817  think strong project thanks shared wonderful o...      0.644444   \n",
       "\n",
       "       polarity sentiment  \n",
       "0      1.000000  positive  \n",
       "1      0.570000  positive  \n",
       "2      0.500000  positive  \n",
       "3      1.000000  positive  \n",
       "4      0.143333  positive  \n",
       "...         ...       ...  \n",
       "16813  0.000000   neutral  \n",
       "16814 -0.126768  negative  \n",
       "16815  0.000000   neutral  \n",
       "16816  1.000000  positive  \n",
       "16817  0.544444  positive  \n",
       "\n",
       "[16818 rows x 5 columns]"
      ]
     },
     "execution_count": 15,
     "metadata": {},
     "output_type": "execute_result"
    }
   ],
   "source": [
    "text_data"
   ]
  },
  {
   "cell_type": "code",
   "execution_count": 16,
   "id": "491489a2",
   "metadata": {},
   "outputs": [],
   "source": [
    "# combine the original dataset with sentiment score\n",
    "data_combine = pd.concat([data_clean[['date','user_name','user_followers','user_friends']], text_data],axis=1)"
   ]
  },
  {
   "cell_type": "code",
   "execution_count": 54,
   "id": "5092dabe",
   "metadata": {},
   "outputs": [
    {
     "data": {
      "text/html": [
       "<div>\n",
       "<style scoped>\n",
       "    .dataframe tbody tr th:only-of-type {\n",
       "        vertical-align: middle;\n",
       "    }\n",
       "\n",
       "    .dataframe tbody tr th {\n",
       "        vertical-align: top;\n",
       "    }\n",
       "\n",
       "    .dataframe thead th {\n",
       "        text-align: right;\n",
       "    }\n",
       "</style>\n",
       "<table border=\"1\" class=\"dataframe\">\n",
       "  <thead>\n",
       "    <tr style=\"text-align: right;\">\n",
       "      <th></th>\n",
       "      <th>date</th>\n",
       "      <th>user_name</th>\n",
       "      <th>user_followers</th>\n",
       "      <th>user_friends</th>\n",
       "      <th>tweets</th>\n",
       "      <th>cleaned_tweets</th>\n",
       "      <th>subjectivity</th>\n",
       "      <th>polarity</th>\n",
       "      <th>sentiment</th>\n",
       "    </tr>\n",
       "  </thead>\n",
       "  <tbody>\n",
       "    <tr>\n",
       "      <th>0</th>\n",
       "      <td>2021-07-03 19:51:16</td>\n",
       "      <td>Br⚾️xim⚾️</td>\n",
       "      <td>108.0</td>\n",
       "      <td>479.0</td>\n",
       "      <td>I found #bitcoin in a User vault at this locat...</td>\n",
       "      <td>found user vault location join playing awesome</td>\n",
       "      <td>1.00</td>\n",
       "      <td>1.00</td>\n",
       "      <td>positive</td>\n",
       "    </tr>\n",
       "    <tr>\n",
       "      <th>1</th>\n",
       "      <td>2021-07-03 12:51:52</td>\n",
       "      <td>Iman husein</td>\n",
       "      <td>57.0</td>\n",
       "      <td>991.0</td>\n",
       "      <td>@paybswap Hopefully this project is a success ...</td>\n",
       "      <td>hopefully project success becomes one best cry...</td>\n",
       "      <td>0.41</td>\n",
       "      <td>0.57</td>\n",
       "      <td>positive</td>\n",
       "    </tr>\n",
       "    <tr>\n",
       "      <th>2</th>\n",
       "      <td>2021-08-25 04:44:25</td>\n",
       "      <td>ROGER 9000 🌞🐉🌋☯️💱🇸🇻</td>\n",
       "      <td>440.0</td>\n",
       "      <td>663.0</td>\n",
       "      <td>#BITCOIN = TRUTH \\n\\nTRUTH  =  TRUST \\n\\nTRUST...</td>\n",
       "      <td>truth truth trust trust love</td>\n",
       "      <td>0.60</td>\n",
       "      <td>0.50</td>\n",
       "      <td>positive</td>\n",
       "    </tr>\n",
       "  </tbody>\n",
       "</table>\n",
       "</div>"
      ],
      "text/plain": [
       "                  date            user_name  user_followers user_friends  \\\n",
       "0  2021-07-03 19:51:16            Br⚾️xim⚾️           108.0        479.0   \n",
       "1  2021-07-03 12:51:52          Iman husein            57.0        991.0   \n",
       "2  2021-08-25 04:44:25  ROGER 9000 🌞🐉🌋☯️💱🇸🇻           440.0        663.0   \n",
       "\n",
       "                                              tweets  \\\n",
       "0  I found #bitcoin in a User vault at this locat...   \n",
       "1  @paybswap Hopefully this project is a success ...   \n",
       "2  #BITCOIN = TRUTH \\n\\nTRUTH  =  TRUST \\n\\nTRUST...   \n",
       "\n",
       "                                      cleaned_tweets  subjectivity  polarity  \\\n",
       "0     found user vault location join playing awesome          1.00      1.00   \n",
       "1  hopefully project success becomes one best cry...          0.41      0.57   \n",
       "2                       truth truth trust trust love          0.60      0.50   \n",
       "\n",
       "  sentiment  \n",
       "0  positive  \n",
       "1  positive  \n",
       "2  positive  "
      ]
     },
     "execution_count": 54,
     "metadata": {},
     "output_type": "execute_result"
    }
   ],
   "source": [
    "# show the data\n",
    "data_combine.head(5)"
   ]
  },
  {
   "cell_type": "markdown",
   "id": "960318f0",
   "metadata": {},
   "source": [
    "### prepare_train_and_test_dataset"
   ]
  },
  {
   "cell_type": "code",
   "execution_count": 55,
   "id": "d279bb43",
   "metadata": {},
   "outputs": [],
   "source": [
    "from sklearn.model_selection import train_test_split\n",
    "tfidf = TfidfVectorizer(analyzer='word')\n",
    "X_raw = data_combine['cleaned_tweets']\n",
    "y_raw = data_combine['sentiment']\n",
    "X_tfidf = tfidf.fit_transform(X_raw)\n",
    "\n",
    "X_train, X_test, y_train, y_test = train_test_split(X_tfidf, y_raw, test_size=0.2, random_state=42)"
   ]
  },
  {
   "cell_type": "markdown",
   "id": "98fb016a",
   "metadata": {},
   "source": [
    "## convert the text data into matrix \n",
    "### use RandomForestClassifier to test vectorizer performance"
   ]
  },
  {
   "cell_type": "markdown",
   "id": "29b28b33",
   "metadata": {},
   "source": [
    "### 1. use tfidf vectorizer "
   ]
  },
  {
   "cell_type": "code",
   "execution_count": 56,
   "id": "34b8126d",
   "metadata": {},
   "outputs": [],
   "source": [
    "from sklearn.feature_extraction.text import TfidfVectorizer\n",
    "tfidf = TfidfVectorizer(analyzer='word')\n",
    "X_raw = data_combine['cleaned_tweets']\n",
    "y_raw = data_combine['sentiment']\n",
    "X_train, X_test, y_train, y_test = train_test_split(X_raw, y_raw, test_size=0.2, random_state=42)"
   ]
  },
  {
   "cell_type": "code",
   "execution_count": 57,
   "id": "410b0c81",
   "metadata": {},
   "outputs": [],
   "source": [
    "X_tfidf_train = tfidf.fit_transform(X_train)"
   ]
  },
  {
   "cell_type": "code",
   "execution_count": 58,
   "id": "a82ea8c4",
   "metadata": {},
   "outputs": [],
   "source": [
    "from sklearn.ensemble import RandomForestClassifier\n",
    "# instantiate the clf model\n",
    "clf = RandomForestClassifier(random_state=42)\n",
    "# train the model\n",
    "clf.fit(X_tfidf_train, y_train)\n",
    "\n",
    "# transform the X_test\n",
    "X_test_transformed = tfidf.transform(X_test)\n",
    "\n",
    "# validation\n",
    "predicted2 = clf.predict(X_test_transformed)"
   ]
  },
  {
   "cell_type": "code",
   "execution_count": 59,
   "id": "9624dfdf",
   "metadata": {},
   "outputs": [
    {
     "data": {
      "text/plain": [
       "0.9289536266349584"
      ]
     },
     "execution_count": 59,
     "metadata": {},
     "output_type": "execute_result"
    }
   ],
   "source": [
    "accuracy_score2 = accuracy_score(y_test, predicted2)\n",
    "accuracy_score2\n",
    "# 0.9232377538829152"
   ]
  },
  {
   "cell_type": "markdown",
   "id": "f954d73d",
   "metadata": {},
   "source": [
    "### 2. use countvectorizer"
   ]
  },
  {
   "cell_type": "code",
   "execution_count": 60,
   "id": "a3fc865f",
   "metadata": {
    "scrolled": true
   },
   "outputs": [
    {
     "data": {
      "text/plain": [
       "0.9114149821640903"
      ]
     },
     "execution_count": 60,
     "metadata": {},
     "output_type": "execute_result"
    }
   ],
   "source": [
    "# instantiate the vectorizer object\n",
    "countvectorizer = CountVectorizer(analyzer='word', stop_words='english')\n",
    "# convert the documents into a matrix\n",
    "final_count_train = countvectorizer.fit_transform(X_train)\n",
    "\n",
    "# instantiate the clf model\n",
    "clf2 = RandomForestClassifier(random_state=42)\n",
    "# train the model\n",
    "clf2.fit(final_count_train, y_train)\n",
    "\n",
    "# transform the X_test\n",
    "X_test_trans_C = countvectorizer.transform(X_test)\n",
    "\n",
    "# validation\n",
    "predicted1 = clf2.predict(X_test_trans_C)\n",
    "accuracy_score1 = accuracy_score(y_test, predicted1)\n",
    "accuracy_score1\n",
    "# 0.9032258064516129"
   ]
  },
  {
   "cell_type": "markdown",
   "id": "4ed7e1e2",
   "metadata": {},
   "source": [
    "### 3. hashing vectorizer"
   ]
  },
  {
   "cell_type": "code",
   "execution_count": 61,
   "id": "23e07373",
   "metadata": {
    "scrolled": true
   },
   "outputs": [
    {
     "data": {
      "text/plain": [
       "0.879013079667063"
      ]
     },
     "execution_count": 61,
     "metadata": {},
     "output_type": "execute_result"
    }
   ],
   "source": [
    "# instantiate the vectorizer object\n",
    "hash_vectorizer = HashingVectorizer(analyzer='word', stop_words='english')\n",
    "# convert the documents into a matrix\n",
    "final_hash_train = hash_vectorizer.fit_transform(X_train)\n",
    "\n",
    "# instantiate the clf model\n",
    "clf3 = RandomForestClassifier(random_state=42)\n",
    "# train the model\n",
    "clf3.fit(final_hash_train, y_train)\n",
    "\n",
    "# transform the X_test\n",
    "X_test_trans_hash = hash_vectorizer.transform(X_test)\n",
    "\n",
    "# validation\n",
    "predicted3 = clf3.predict(X_test_trans_hash)\n",
    "accuracy_score3 = accuracy_score(y_test, predicted3)\n",
    "accuracy_score3\n",
    "# 0.8623058542413381"
   ]
  },
  {
   "cell_type": "markdown",
   "id": "405796a4",
   "metadata": {},
   "source": [
    "## test different classifier models "
   ]
  },
  {
   "cell_type": "markdown",
   "id": "0518f85d",
   "metadata": {},
   "source": [
    "### using SGDClassifier model"
   ]
  },
  {
   "cell_type": "code",
   "execution_count": 62,
   "id": "db7aa326",
   "metadata": {},
   "outputs": [
    {
     "data": {
      "text/plain": [
       "0.9078478002378121"
      ]
     },
     "execution_count": 62,
     "metadata": {},
     "output_type": "execute_result"
    }
   ],
   "source": [
    "# SGDClassifier model\n",
    "from sklearn.linear_model import SGDClassifier\n",
    "model = SGDClassifier(random_state=42)\n",
    "model.fit(X_tfidf_train, y_train)\n",
    "\n",
    "# transform the X_test\n",
    "X_test_transformed = tfidf.transform(X_test)\n",
    "# validation\n",
    "pred1 = model.predict(X_test_transformed)\n",
    "\n",
    "accuracy_s1 = accuracy_score(y_test, pred1)\n",
    "accuracy_s1"
   ]
  },
  {
   "cell_type": "markdown",
   "id": "1f0f7148",
   "metadata": {},
   "source": [
    "### using MultinomialNB model"
   ]
  },
  {
   "cell_type": "code",
   "execution_count": 26,
   "id": "131e3ad1",
   "metadata": {},
   "outputs": [
    {
     "data": {
      "text/plain": [
       "0.7517835909631391"
      ]
     },
     "execution_count": 26,
     "metadata": {},
     "output_type": "execute_result"
    }
   ],
   "source": [
    "# MultinomialNB model\n",
    "from sklearn.naive_bayes import MultinomialNB\n",
    "model2 = MultinomialNB()\n",
    "model2.fit(X_tfidf_train, y_train)\n",
    "# transform the X_test\n",
    "X_test_transformed = tfidf.transform(X_test)\n",
    "# validation\n",
    "pred2 = model2.predict(X_test_transformed)\n",
    "accuracy_s2 = accuracy_score(y_test, pred2)\n",
    "accuracy_s2"
   ]
  },
  {
   "cell_type": "code",
   "execution_count": 29,
   "id": "082d675a",
   "metadata": {},
   "outputs": [
    {
     "data": {
      "image/png": "[encoded data removed]",
      "text/plain": [
       "<Figure size 576x432 with 2 Axes>"
      ]
     },
     "metadata": {
      "needs_background": "light"
     },
     "output_type": "display_data"
    }
   ],
   "source": [
    "from sklearn.metrics import confusion_matrix\n",
    "import seaborn as sns\n",
    "def plot_confusion_matrix(y_pred, y_test):\n",
    "    sentiment_classes = ['Negative','Neutral', 'Positive']\n",
    "    cm = confusion_matrix(y_pred,y_test)    \n",
    "    # plot confusion matrix\n",
    "    plt.figure(figsize=(8,6))\n",
    "    sns.heatmap(cm, cmap=plt.cm.Blues, annot=True, fmt='d', \n",
    "                xticklabels=sentiment_classes,\n",
    "                yticklabels=sentiment_classes)\n",
    "    plt.title('Confusion matrix', fontsize=16)\n",
    "    plt.xlabel('Actual label', fontsize=12)\n",
    "    plt.ylabel('Predicted label', fontsize=12)\n",
    "    \n",
    "plot_confusion_matrix(predicted1, y_test)"
   ]
  },
  {
   "cell_type": "markdown",
   "id": "47afe63c",
   "metadata": {},
   "source": [
    "## future work: using tensorflow"
   ]
  },
  {
   "cell_type": "code",
   "execution_count": 30,
   "id": "6dbcb663",
   "metadata": {},
   "outputs": [],
   "source": [
    "from tensorflow.keras.preprocessing.text import Tokenizer\n",
    "from tensorflow.keras.preprocessing.sequence import pad_sequences\n",
    "\n",
    "max_words = 5000\n",
    "max_len=50\n",
    "\n",
    "def tokenize_pad_sequences(text):\n",
    "    '''\n",
    "    This function tokenize the input text into sequnences of intergers and then\n",
    "    pad each sequence to the same length\n",
    "    '''\n",
    "    # Text tokenization\n",
    "    tokenizer = Tokenizer(num_words=max_words, lower=True, split=' ')\n",
    "    tokenizer.fit_on_texts(text)\n",
    "    # Transforms text to a sequence of integers\n",
    "    X = tokenizer.texts_to_sequences(text)\n",
    "    # Pad sequences to the same length\n",
    "    X = pad_sequences(X, padding='post', maxlen=max_len)\n",
    "    # return sequences\n",
    "    return X, tokenizer"
   ]
  },
  {
   "cell_type": "code",
   "execution_count": 31,
   "id": "a2cc3805",
   "metadata": {},
   "outputs": [
    {
     "name": "stdout",
     "output_type": "stream",
     "text": [
      "Before Tokenization & Padding \n",
      " found user vault location join playing awesome\n",
      "After Tokenization & Padding \n",
      " [231 123 254 262  14 204 137   0   0   0   0   0   0   0   0   0   0   0\n",
      "   0   0   0   0   0   0   0   0   0   0   0   0   0   0   0   0   0   0\n",
      "   0   0   0   0   0   0   0   0   0   0   0   0   0   0]\n"
     ]
    }
   ],
   "source": [
    "print('Before Tokenization & Padding \\n', data_combine['cleaned_tweets'][0])\n",
    "X, tokenizer = tokenize_pad_sequences(data_combine['cleaned_tweets'])\n",
    "print('After Tokenization & Padding \\n', X[0])"
   ]
  },
  {
   "cell_type": "code",
   "execution_count": 32,
   "id": "e3328484",
   "metadata": {},
   "outputs": [
    {
     "name": "stdout",
     "output_type": "stream",
     "text": [
      "Train Set:  (10090, 50) (10090, 3)\n",
      "Validation Set:  (3364, 50) (3364, 3)\n",
      "Test Set:  (3364, 50) (3364, 3)\n"
     ]
    }
   ],
   "source": [
    "y = pd.get_dummies(data_combine['sentiment'])\n",
    "from sklearn.model_selection import train_test_split\n",
    "\n",
    "X_train, X_test, y_train, y_test = train_test_split(X, y, test_size=0.2, random_state=42)\n",
    "X_train, X_val, y_train, y_val = train_test_split(X_train, y_train, test_size=0.25, random_state=42)\n",
    "\n",
    "print('Train Set: ', X_train.shape, y_train.shape)\n",
    "print('Validation Set: ', X_val.shape, y_val.shape)\n",
    "print('Test Set: ', X_test.shape, y_test.shape)"
   ]
  },
  {
   "cell_type": "code",
   "execution_count": 33,
   "id": "b3f251ff",
   "metadata": {},
   "outputs": [],
   "source": [
    "import tensorflow.keras.backend as K\n",
    "\n",
    "def f1_score(precision, recall):\n",
    "    ''' Function to calculate f1 score '''\n",
    "    \n",
    "    f1_val = 2*(precision*recall)/(precision+recall+K.epsilon())\n",
    "    return f1_val"
   ]
  },
  {
   "cell_type": "code",
   "execution_count": 34,
   "id": "afb405c3",
   "metadata": {},
   "outputs": [],
   "source": [
    "from tensorflow.keras.models import Sequential\n",
    "from tensorflow.keras.layers import Embedding, Conv1D, MaxPooling1D, Bidirectional, LSTM, Dense, Dropout\n",
    "from tensorflow.keras.metrics import Precision, Recall\n",
    "from tensorflow.keras.optimizers import SGD\n",
    "from tensorflow.keras.optimizers import RMSprop\n",
    "from tensorflow.keras import datasets\n",
    "from tensorflow.keras.callbacks import LearningRateScheduler\n",
    "from tensorflow.keras.callbacks import History\n",
    "from tensorflow.keras import losses"
   ]
  },
  {
   "cell_type": "code",
   "execution_count": 35,
   "id": "1df26a4f",
   "metadata": {},
   "outputs": [],
   "source": [
    "vocab_size = 5000\n",
    "embedding_size = 32\n",
    "epochs = 10\n",
    "learning_rate = 0.1\n",
    "decay_rate = learning_rate / epochs\n",
    "momentum = 0.8"
   ]
  },
  {
   "cell_type": "code",
   "execution_count": 36,
   "id": "6d04296e",
   "metadata": {},
   "outputs": [],
   "source": [
    "sgd = RMSprop()\n",
    "# Build model\n",
    "model= Sequential()\n",
    "model.add(Embedding(vocab_size, embedding_size, input_length=max_len))\n",
    "model.add(Conv1D(filters=32, kernel_size=1, padding='same', activation='relu'))\n",
    "model.add(MaxPooling1D(pool_size=2))\n",
    "model.add(Bidirectional(LSTM(32)))\n",
    "model.add(Dropout(0.4))\n",
    "model.add(Dense(3, activation='softmax'))"
   ]
  },
  {
   "cell_type": "code",
   "execution_count": 37,
   "id": "f85fcc55",
   "metadata": {},
   "outputs": [],
   "source": [
    "model.compile(loss='categorical_crossentropy', optimizer=sgd, metrics=['accuracy',Precision(), Recall()])"
   ]
  },
  {
   "cell_type": "code",
   "execution_count": 38,
   "id": "b6212524",
   "metadata": {},
   "outputs": [
    {
     "name": "stdout",
     "output_type": "stream",
     "text": [
      "Epoch 1/10\n",
      "158/158 [==============================] - 14s 36ms/step - loss: 0.7264 - accuracy: 0.6975 - precision: 0.7688 - recall: 0.5682 - val_loss: 0.5149 - val_accuracy: 0.8008 - val_precision: 0.8347 - val_recall: 0.7610\n",
      "Epoch 2/10\n",
      "158/158 [==============================] - 3s 21ms/step - loss: 0.3683 - accuracy: 0.8666 - precision: 0.9041 - recall: 0.8353 - val_loss: 0.4321 - val_accuracy: 0.8487 - val_precision: 0.8789 - val_recall: 0.8130\n",
      "Epoch 3/10\n",
      "158/158 [==============================] - 4s 24ms/step - loss: 0.2672 - accuracy: 0.9069 - precision: 0.9366 - recall: 0.8723 - val_loss: 0.3900 - val_accuracy: 0.8540 - val_precision: 0.8749 - val_recall: 0.8356\n",
      "Epoch 4/10\n",
      "158/158 [==============================] - 4s 23ms/step - loss: 0.2178 - accuracy: 0.9299 - precision: 0.9415 - recall: 0.9191 - val_loss: 0.4211 - val_accuracy: 0.8618 - val_precision: 0.8862 - val_recall: 0.8448\n",
      "Epoch 5/10\n",
      "158/158 [==============================] - 5s 31ms/step - loss: 0.1735 - accuracy: 0.9463 - precision: 0.9540 - recall: 0.9401 - val_loss: 0.3897 - val_accuracy: 0.8844 - val_precision: 0.8957 - val_recall: 0.8757cision: 0.9533 - recal\n",
      "Epoch 6/10\n",
      "158/158 [==============================] - 3s 22ms/step - loss: 0.1287 - accuracy: 0.9620 - precision: 0.9662 - recall: 0.9582 - val_loss: 0.3409 - val_accuracy: 0.8986 - val_precision: 0.9063 - val_recall: 0.8912\n",
      "Epoch 7/10\n",
      "158/158 [==============================] - 4s 22ms/step - loss: 0.0943 - accuracy: 0.9733 - precision: 0.9761 - recall: 0.9703 - val_loss: 0.3483 - val_accuracy: 0.8974 - val_precision: 0.9029 - val_recall: 0.8933\n",
      "Epoch 8/10\n",
      "158/158 [==============================] - 3s 22ms/step - loss: 0.0684 - accuracy: 0.9798 - precision: 0.9819 - recall: 0.9780 - val_loss: 0.4513 - val_accuracy: 0.8633 - val_precision: 0.8690 - val_recall: 0.8576\n",
      "Epoch 9/10\n",
      "158/158 [==============================] - 4s 24ms/step - loss: 0.0527 - accuracy: 0.9855 - precision: 0.9862 - recall: 0.9844 - val_loss: 0.4267 - val_accuracy: 0.9049 - val_precision: 0.9075 - val_recall: 0.9013\n",
      "Epoch 10/10\n",
      "158/158 [==============================] - 3s 21ms/step - loss: 0.0439 - accuracy: 0.9892 - precision: 0.9902 - recall: 0.9883 - val_loss: 0.4294 - val_accuracy: 0.9028 - val_precision: 0.9063 - val_recall: 0.8995\n"
     ]
    }
   ],
   "source": [
    "history = model.fit(X_train,y_train,validation_data=(X_val, y_val),batch_size=64,epochs=epochs,verbose=1)"
   ]
  },
  {
   "cell_type": "code",
   "execution_count": 39,
   "id": "70ebdf2e",
   "metadata": {},
   "outputs": [
    {
     "name": "stdout",
     "output_type": "stream",
     "text": [
      "\n",
      "Accuracy  : 0.9058\n",
      "Precision : 0.9102\n",
      "Recall    : 0.9034\n",
      "F1 Score  : 0.9068\n"
     ]
    }
   ],
   "source": [
    "# Evaluate model on the test set\n",
    "loss, accuracy, precision, recall = model.evaluate(X_test, y_test, verbose=0)\n",
    "# Print metrics\n",
    "print('')\n",
    "print('Accuracy  : {:.4f}'.format(accuracy))\n",
    "print('Precision : {:.4f}'.format(precision))\n",
    "print('Recall    : {:.4f}'.format(recall))\n",
    "print('F1 Score  : {:.4f}'.format(f1_score(precision, recall)))"
   ]
  },
  {
   "cell_type": "code",
   "execution_count": 40,
   "id": "3b070346",
   "metadata": {},
   "outputs": [
    {
     "data": {
      "image/png": "[encoded data removed]",
      "text/plain": [
       "<Figure size 720x288 with 2 Axes>"
      ]
     },
     "metadata": {
      "needs_background": "light"
     },
     "output_type": "display_data"
    }
   ],
   "source": [
    "def plot_training_hist(history):\n",
    "    '''Function to plot history for accuracy and loss'''\n",
    "    \n",
    "    fig, ax = plt.subplots(1,2, figsize=(10,4))\n",
    "    # first plot\n",
    "    ax[0].plot(history.history['accuracy'])\n",
    "    ax[0].plot(history.history['val_accuracy'])\n",
    "    ax[0].set_title('Model Accuracy')\n",
    "    ax[0].set_xlabel('epoch')\n",
    "    ax[0].set_ylabel('accuracy')\n",
    "    ax[0].legend(['train', 'validation'], loc='best')\n",
    "    \n",
    "    # second plot\n",
    "    ax[1].plot(history.history['loss'])\n",
    "    ax[1].plot(history.history['val_loss'])\n",
    "    ax[1].set_title('Model Loss')\n",
    "    ax[1].set_xlabel('epoch')\n",
    "    ax[1].set_ylabel('loss')\n",
    "    ax[1].legend(['train', 'validation'], loc='best')\n",
    "    \n",
    "plot_training_hist(history)"
   ]
  },
  {
   "cell_type": "code",
   "execution_count": 41,
   "id": "61dfa883",
   "metadata": {},
   "outputs": [
    {
     "name": "stdout",
     "output_type": "stream",
     "text": [
      "2    1643\n",
      "1    1362\n",
      "0     359\n",
      "dtype: int64\n",
      "2    1717\n",
      "1    1257\n",
      "0     390\n",
      "dtype: int64\n"
     ]
    },
    {
     "data": {
      "image/png": "[encoded data removed]",
      "text/plain": [
       "<Figure size 576x432 with 2 Axes>"
      ]
     },
     "metadata": {
      "needs_background": "light"
     },
     "output_type": "display_data"
    }
   ],
   "source": [
    "from sklearn.metrics import confusion_matrix\n",
    "import seaborn as sns\n",
    "\n",
    "def plot_confusion_matrix(model, X_test, y_test):\n",
    "    '''Function to plot confusion matrix for the passed model and the data'''\n",
    "    \n",
    "    sentiment_classes = ['Negative','Neutral', 'Positive']\n",
    "    # use model to do the prediction\n",
    "    y_pred = model.predict(X_test)\n",
    "    # compute confusion matrix\n",
    "    cm = confusion_matrix(np.argmax(y_pred, axis=1),np.argmax(np.array(y_test),axis=1))\n",
    "    \n",
    "    print(pd.Series(np.argmax(np.array(y_test),axis=1)).value_counts())\n",
    "    print(pd.Series(np.argmax(y_pred, axis=1)).value_counts())\n",
    "    \n",
    "    # plot confusion matrix\n",
    "    plt.figure(figsize=(8,6))\n",
    "    sns.heatmap(cm, cmap=plt.cm.Blues, annot=True, fmt='d', \n",
    "                xticklabels=sentiment_classes,\n",
    "                yticklabels=sentiment_classes)\n",
    "    plt.title('Confusion matrix', fontsize=16)\n",
    "    plt.xlabel('Actual label', fontsize=12)\n",
    "    plt.ylabel('Predicted label', fontsize=12)\n",
    "    \n",
    "plot_confusion_matrix(model, X_test, y_test)"
   ]
  },
  {
   "cell_type": "code",
   "execution_count": 51,
   "id": "735cffc3",
   "metadata": {},
   "outputs": [
    {
     "name": "stdout",
     "output_type": "stream",
     "text": [
      "              precision    recall  f1-score   support\n",
      "\n",
      "    negative       1.00      0.09      0.17       359\n",
      "     neutral       0.85      0.69      0.76      1362\n",
      "    positive       0.71      0.96      0.81      1643\n",
      "\n",
      "    accuracy                           0.76      3364\n",
      "   macro avg       0.85      0.58      0.58      3364\n",
      "weighted avg       0.79      0.76      0.72      3364\n",
      "\n"
     ]
    }
   ],
   "source": [
    "print(classification_report(y_test, model.predict(X_test)))"
   ]
  },
  {
   "cell_type": "code",
   "execution_count": null,
   "id": "bc38eab9",
   "metadata": {},
   "outputs": [],
   "source": []
  }
 ],
 "metadata": {
  "kernelspec": {
   "display_name": "Python 3",
   "language": "python",
   "name": "python3"
  },
  "language_info": {
   "codemirror_mode": {
    "name": "ipython",
    "version": 3
   },
   "file_extension": ".py",
   "mimetype": "text/x-python",
   "name": "python",
   "nbconvert_exporter": "python",
   "pygments_lexer": "ipython3",
   "version": "3.8.8"
  }
 },
 "nbformat": 4,
 "nbformat_minor": 5
}
